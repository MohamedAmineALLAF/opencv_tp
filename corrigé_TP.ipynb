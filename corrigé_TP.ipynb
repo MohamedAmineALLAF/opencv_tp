{
 "cells": [
  {
   "cell_type": "code",
   "execution_count": null,
   "metadata": {},
   "outputs": [],
   "source": [
    "import numpy as np\n",
    "import cv2 as cv\n"
   ]
  },
  {
   "cell_type": "code",
   "execution_count": 9,
   "metadata": {},
   "outputs": [
    {
     "data": {
      "text/plain": [
       "True"
      ]
     },
     "execution_count": 9,
     "metadata": {},
     "output_type": "execute_result"
    }
   ],
   "source": [
    "#exercice_1\n",
    "\n",
    "image =cv.imread('marco.png')\n",
    "cnv = cv.cvtColor(image, cv.COLOR_BGR2GRAY )\n",
    "#exercice_2\n",
    "cv.imwrite('marco.png', cnv)\n",
    "\n",
    "cv.waitKey(0)\n",
    "cv.destroyAllWindows()\n"
   ]
  },
  {
   "cell_type": "code",
   "execution_count": null,
   "metadata": {},
   "outputs": [],
   "source": [
    "import numpy as np\n",
    "import cv2 as cv\n",
    "\n",
    "#exercice_3\n",
    "image =cv.imread('face.png')\n",
    "cv.rectangle(image,(110,110),(290,300),(0, 220, 0),2)\n",
    "cv.circle(image,(160,170),18,(255, 0, 0),2)\n",
    "cv.circle(image,(238,170),18,(255, 0, 0),2)\n",
    "img_last = cv.imshow(\"Face\",image)\n",
    "width = 400\n",
    "height = 400\n",
    "dsize = (width, height)\n",
    "output = cv.resize(image, dsize)\n",
    "#exercice_4\n",
    "# cv.imwrite('face.jpeg',img_last) \n",
    "cv.waitKey(0)\n",
    "cv.destroyAllWindows()"
   ]
  },
  {
   "cell_type": "code",
   "execution_count": 13,
   "metadata": {},
   "outputs": [
    {
     "name": "stdout",
     "output_type": "stream",
     "text": [
      "(400, 400, 3)\n",
      "(400, 400, 3)\n",
      "les deux images sont égaux(dimensions et channels)\n",
      "les images sont complétement différentes\n"
     ]
    }
   ],
   "source": [
    "#exercice_5\n",
    "image1=cv.imread(\"face.png\")\n",
    "print(image1.shape)\n",
    "image2=cv.imread(\"face.jpg\") \n",
    "print(image2.shape)\n",
    "if image2.shape == image1.shape:\n",
    "    print(\"les deux images sont égaux(dimensions et channels)\")\n",
    "else:\n",
    "    print(\"les images sont différentes\")\n",
    "    \n",
    "diff = cv.subtract(image1, image2)\n",
    "b,g,r=cv.split(diff)\n",
    "\n",
    "if cv.countNonZero(b) == 0 and cv.countNonZero(g) == 0 and cv.countNonZero(r) == 0:\n",
    "    print(\"les images sont complétement égaux\")\n",
    "else: \n",
    "    print(\"les images sont complétement différentes\")"
   ]
  },
  {
   "cell_type": "code",
   "execution_count": 17,
   "metadata": {},
   "outputs": [],
   "source": [
    "#exercice_6\n",
    "import numpy as np\n",
    "import cv2 as cv\n",
    "\n",
    "img_hassan=cv.imread(\"hassan.jpeg\")\n",
    "img_pers=cv.imread(\"walk.png\")\n",
    "width = 400\n",
    "height = 400\n",
    "dsize = (width, height)\n",
    "output = cv.resize(img_pers, dsize)\n",
    "img_weighted = cv.addWeighted(img_hassan, .5, output, .5, 0)\n",
    "cv.imshow(\"Hassan\", img_hassan)\n",
    "cv.imshow(\"personne\", output)\n",
    "cv.imshow(\"Mélange\", img_weighted)\n",
    "cv.waitKey(0)\n",
    "cv.destroyAllWindows()"
   ]
  },
  {
   "cell_type": "code",
   "execution_count": null,
   "metadata": {},
   "outputs": [],
   "source": []
  }
 ],
 "metadata": {
  "kernelspec": {
   "display_name": "Python 3",
   "language": "python",
   "name": "python3"
  },
  "language_info": {
   "codemirror_mode": {
    "name": "ipython",
    "version": 3
   },
   "file_extension": ".py",
   "mimetype": "text/x-python",
   "name": "python",
   "nbconvert_exporter": "python",
   "pygments_lexer": "ipython3",
   "version": "3.8.5"
  }
 },
 "nbformat": 4,
 "nbformat_minor": 4
}
